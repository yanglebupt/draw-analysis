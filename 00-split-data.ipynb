{
 "cells": [
  {
   "cell_type": "code",
   "execution_count": 2,
   "id": "7a5d15b7-7c5f-45d5-a186-1f53f2eb5fe8",
   "metadata": {},
   "outputs": [],
   "source": [
    "import pandas as pd\n",
    "import numpy as np\n",
    "from sklearn.model_selection import train_test_split\n",
    "import os"
   ]
  },
  {
   "cell_type": "code",
   "execution_count": 3,
   "id": "5db42002-ff41-4d9f-bf75-60298c4688a0",
   "metadata": {},
   "outputs": [],
   "source": [
    "random_state = 123"
   ]
  },
  {
   "cell_type": "code",
   "execution_count": 4,
   "id": "c65c2dc2-e33b-494e-ab79-f666b2c1c662",
   "metadata": {},
   "outputs": [],
   "source": [
    "jiaolv_idx = 7 \n",
    "jiaolv_classes = [\"无（轻度）\",\"一般（存疑）\",\"重度（很明显）\"]"
   ]
  },
  {
   "cell_type": "code",
   "execution_count": 7,
   "id": "fe391fae-c829-4523-b17d-3eccd825240d",
   "metadata": {},
   "outputs": [],
   "source": [
    "types = [\"房树人\", \"树\", \"雨中人\"]\n",
    "type_idx = 2\n",
    "dfs = [pd.read_excel(io=f\"./绘画分类数据集/{t}.xlsx\",sheet_name=\"Sheet1\", header=None, usecols=[0,type_idx,jiaolv_idx]).dropna() for t in types]"
   ]
  },
  {
   "cell_type": "code",
   "execution_count": 8,
   "id": "371b1019-f34e-41f9-8da0-f76b460f5e23",
   "metadata": {},
   "outputs": [],
   "source": [
    "total = sum([len(df) for df in dfs])"
   ]
  },
  {
   "cell_type": "code",
   "execution_count": 9,
   "id": "ca135a7f-1ee7-4aca-8eed-08d5cb807518",
   "metadata": {},
   "outputs": [
    {
     "name": "stdout",
     "output_type": "stream",
     "text": [
      "total:  1855\n",
      "train/val/test:  1298 185 372\n"
     ]
    }
   ],
   "source": [
    "train_rate = 0.7\n",
    "val_rate = 0.1\n",
    "test_rate = 0.2\n",
    "print(\"total: \", total)\n",
    "train_nums, val_nums = int(total*train_rate), int(total*val_rate)\n",
    "test_nums = total - train_nums - val_nums\n",
    "print(\"train/val/test: \", train_nums, val_nums, test_nums)"
   ]
  },
  {
   "cell_type": "code",
   "execution_count": 10,
   "id": "95b3319c-259d-42ca-8d64-94277b6ec2a8",
   "metadata": {},
   "outputs": [
    {
     "name": "stdout",
     "output_type": "stream",
     "text": [
      "在 ['房树人'] 中划分\n",
      "在 ['树'] 中划分\n",
      "在 ['雨中人'] 中划分\n",
      "合并\n"
     ]
    }
   ],
   "source": [
    "train_ = []\n",
    "val_ = []\n",
    "test_ = []\n",
    "for df in dfs:\n",
    "    X = df.values\n",
    "    ttt = np.unique(X[:, 1])\n",
    "    print(\"在\",ttt,\"中划分\")\n",
    "    assert len(ttt) == 1, \"类别不正确\" \n",
    "    y = X[:, 2]\n",
    "\n",
    "    X_train_val, X_test, y_train_val, y_test = train_test_split(X, y, test_size=test_rate, random_state=random_state, shuffle=True, stratify=y)\n",
    "    X_train, X_val, y_train, y_val = train_test_split(X_train_val, y_train_val, test_size=val_rate/(train_rate+val_rate), random_state=random_state, shuffle=True, stratify=y_train_val)\n",
    "\n",
    "    train_.append(X_train)\n",
    "    val_.append(X_val)\n",
    "    test_.append(X_test)\n",
    "    \n",
    "print(\"合并\")\n",
    "train_xl = np.concatenate(train_)\n",
    "val_xl = np.concatenate(val_)\n",
    "test_xl = np.concatenate(test_)"
   ]
  },
  {
   "cell_type": "code",
   "execution_count": 11,
   "id": "ba7162d0-c0df-4071-9719-dbb552e51af1",
   "metadata": {},
   "outputs": [],
   "source": [
    "np.random.seed(random_state)\n",
    "s_train_xl = np.random.permutation(train_xl)\n",
    "s_val_xl = np.random.permutation(val_xl)\n",
    "s_test_xl = np.random.permutation(test_xl)"
   ]
  },
  {
   "cell_type": "code",
   "execution_count": 12,
   "id": "32ab58b3-8de4-4b39-9e6b-ad031c76bbbe",
   "metadata": {},
   "outputs": [
    {
     "name": "stdout",
     "output_type": "stream",
     "text": [
      "(1295, 3) (188, 3) (372, 3)\n"
     ]
    }
   ],
   "source": [
    "print(s_train_xl.shape, s_val_xl.shape, s_test_xl.shape)"
   ]
  },
  {
   "cell_type": "code",
   "execution_count": 13,
   "id": "770fc778-b7b5-42f9-b8ad-f8cbba6bccec",
   "metadata": {},
   "outputs": [
    {
     "data": {
      "text/plain": [
       "array(['一般（存疑）', '无（轻度）', '重度（很明显）'], dtype=object)"
      ]
     },
     "execution_count": 13,
     "metadata": {},
     "output_type": "execute_result"
    }
   ],
   "source": [
    "np.unique(s_test_xl[:,2])"
   ]
  },
  {
   "cell_type": "code",
   "execution_count": 14,
   "id": "b967c0ea-3277-4e53-815d-8210a94ece03",
   "metadata": {},
   "outputs": [],
   "source": [
    "def array_to_dict(array):\n",
    "    headers = [\"filepath\", \"type\", \"label\"]\n",
    "    df_dict = {}\n",
    "    for i, h in enumerate(headers):\n",
    "        df_dict[h] = array[:, i]\n",
    "    return df_dict"
   ]
  },
  {
   "cell_type": "code",
   "execution_count": 15,
   "id": "257972df-67f2-4a6c-a45f-a3892903ec1f",
   "metadata": {},
   "outputs": [],
   "source": [
    "def save_xslx(dir:str, filename:str, results:dict, sheet_name=\"Sheet1\"):\n",
    "    result_filename = f\"{dir}/{filename}.xlsx\"\n",
    "    exists = os.path.exists(result_filename)\n",
    "    mode = \"a\" if exists else \"w\"\n",
    "    kwargs={\n",
    "      \"mode\":mode,\n",
    "      \"if_sheet_exists\":\"replace\"\n",
    "    }if exists else {\n",
    "      \"mode\":mode\n",
    "    }\n",
    "    sheet = pd.DataFrame(results)\n",
    "    with pd.ExcelWriter(result_filename, **kwargs) as xlsx:\n",
    "        # print(f\"save sheet_name\")\n",
    "        sheet.to_excel(xlsx, index=False, sheet_name=sheet_name)"
   ]
  },
  {
   "cell_type": "code",
   "execution_count": 16,
   "id": "0f36428d-6267-407c-8902-a51f6e2be243",
   "metadata": {},
   "outputs": [],
   "source": [
    "save_dir = \"./dataset\"\n",
    "os.makedirs(save_dir, exist_ok=True)\n",
    "save_xslx(save_dir, \"train\", array_to_dict(s_train_xl))\n",
    "save_xslx(save_dir, \"val\", array_to_dict(s_val_xl))\n",
    "save_xslx(save_dir, \"test\", array_to_dict(s_test_xl))"
   ]
  },
  {
   "cell_type": "code",
   "execution_count": 17,
   "id": "94a0c87f-3494-41ca-9b78-c2d54fb77bed",
   "metadata": {},
   "outputs": [
    {
     "name": "stdout",
     "output_type": "stream",
     "text": [
      "                                         filepath type    label\n",
      "0           绘画资料（E）/湖南湘西土家苗族   黄爱君（15）/img036.jpg  雨中人    无（轻度）\n",
      "1      绘画资料（E）/编号    张晓彤   树木画  厨师（16）/img167.jpg    树   一般（存疑）\n",
      "2                  绘画资料（E）/编号  栾起业（13）/img917.jpg    树  重度（很明显）\n",
      "3                  2024研招心理测试-pdf扫描件/035孟德健_3.jpg  房树人   一般（存疑）\n",
      "4           绘画资料（E）/湖南湘西土家苗族   黄爱君（15）/img032.jpg  房树人   一般（存疑）\n",
      "...                                           ...  ...      ...\n",
      "1290  绘画资料（E）/四川成都  刘洋  树木画+雨中+房树人（11）/img663.jpg  雨中人   一般（存疑）\n",
      "1291           绘画资料（E）/吉林长春  黄蕾   （20）/img580.jpg  雨中人   一般（存疑）\n",
      "1292           绘画资料（E）/吉林长春  黄蕾   （20）/img569.jpg  房树人    无（轻度）\n",
      "1293            科普周样本/20230927091352086_0012.tiff  雨中人    无（轻度）\n",
      "1294               2024研招心理测试-pdf扫描件/063许鲲鹏_2.jpg  雨中人    无（轻度）\n",
      "\n",
      "[1295 rows x 3 columns]\n",
      "                                 filepath type    label\n",
      "0          绘画资料（E）/北京市  晋军营（8）/img307.jpg  雨中人   一般（存疑）\n",
      "1          2024研招心理测试-pdf扫描件/058李祝伟_3.jpg  房树人    无（轻度）\n",
      "2      绘画资料（E）/安徽省合肥市   李琳玲（5）/img019.jpg    树  重度（很明显）\n",
      "3    绘画资料（E）/北京市  彭红花（3）/编号（9）/img453.jpg  雨中人    无（轻度）\n",
      "4       科普周样本/20230927091352086_0136.tiff  房树人   一般（存疑）\n",
      "..                                    ...  ...      ...\n",
      "183                          抑郁症扫描/16.jpg    树  重度（很明显）\n",
      "184         2024研招心理测试-pdf扫描件/069赵婧_2.jpg  雨中人    无（轻度）\n",
      "185        2024研招心理测试-pdf扫描件/013姜文轩_1.jpg    树    无（轻度）\n",
      "186  绘画资料（E）/山东济南  陈琪  雨中人（19）/img430.jpg  雨中人    无（轻度）\n",
      "187        绘画资料（E）/北京市 王晓燕2（1）/img651.jpg    树    无（轻度）\n",
      "\n",
      "[188 rows x 3 columns]\n",
      "                                        filepath type    label\n",
      "0                 绘画资料（E）/北京市 王晓燕2（1）/img606.jpg    树   一般（存疑）\n",
      "1     绘画资料（E）/编号    张晓彤   树木画  厨师（16）/img166.jpg    树    无（轻度）\n",
      "2           绘画资料（E）/山东济南  陈琪  雨中人（19）/img473.jpg  房树人    无（轻度）\n",
      "3              科普周样本/20230927091352086_0129.tiff  雨中人   一般（存疑）\n",
      "4               绘画资料（E）/河南省郑州市  李峰（4）/img913.jpg    树    无（轻度）\n",
      "..                                           ...  ...      ...\n",
      "367        绘画资料（E）/湖南湘西土家苗族   黄爱君（15）/img095.jpg  雨中人  重度（很明显）\n",
      "368  绘画资料（E）/四川成都  刘洋  树木画+雨中+房树人（11）/img702.jpg  房树人   一般（存疑）\n",
      "369         绘画资料（E）/山东省济宁市    鲍冉冉（14）/img940.jpg  房树人   一般（存疑）\n",
      "370            科普周样本/20230927091352086_0043.tiff    树   一般（存疑）\n",
      "371               2024研招心理测试-pdf扫描件/034王一璠_1.jpg    树   一般（存疑）\n",
      "\n",
      "[372 rows x 3 columns]\n"
     ]
    }
   ],
   "source": [
    "for n in [\"train\", \"val\", \"test\"]:\n",
    "    df = pd.read_excel(io=f\"{save_dir}/{n}.xlsx\",sheet_name=\"Sheet1\")\n",
    "    print(df)"
   ]
  },
  {
   "cell_type": "markdown",
   "id": "e1da5593-c3a2-43b9-ba0c-096df44233c3",
   "metadata": {},
   "source": [
    "## 筛查错误"
   ]
  },
  {
   "cell_type": "code",
   "execution_count": 20,
   "id": "0f7e39f3-e3f9-4b08-bf59-0f9124df634a",
   "metadata": {},
   "outputs": [
    {
     "data": {
      "text/plain": [
       "array([], shape=(0, 3), dtype=object)"
      ]
     },
     "execution_count": 20,
     "metadata": {},
     "output_type": "execute_result"
    }
   ],
   "source": [
    "idxs = [i for i, s in enumerate(s_train_xl[:, 0]) if len(s.split(\".\"))!=2]\n",
    "s_train_xl[idxs]"
   ]
  },
  {
   "cell_type": "code",
   "execution_count": 19,
   "id": "a37f168f-8bc3-4048-9d14-842f40ed9fd8",
   "metadata": {},
   "outputs": [],
   "source": [
    "s_train_xl[idxs[0], 0] = \"绘画资料（E）/吉林长春  黄蕾   （20）/img630.jpg\""
   ]
  },
  {
   "cell_type": "code",
   "execution_count": 23,
   "id": "e4d083e9-bb30-4a4b-b1bc-35d8b30777ed",
   "metadata": {},
   "outputs": [
    {
     "data": {
      "text/plain": [
       "array([], shape=(0, 3), dtype=object)"
      ]
     },
     "execution_count": 23,
     "metadata": {},
     "output_type": "execute_result"
    }
   ],
   "source": [
    "idxs = [i for i, s in enumerate(s_train_xl[:, 0]) if not(s.endswith(\"jpg\") or s.endswith(\"tiff\"))]\n",
    "s_train_xl[idxs]"
   ]
  },
  {
   "cell_type": "code",
   "execution_count": null,
   "id": "18e71612-7b14-442e-854e-1d40b7cb5c2a",
   "metadata": {},
   "outputs": [],
   "source": [
    "s_train_xl[idxs[0], 0] = \"2024研招心理测试-pdf扫描件/084李俊驰_3.jpg\""
   ]
  },
  {
   "cell_type": "code",
   "execution_count": 25,
   "id": "640ae61d-6e90-473b-b9a1-e7942b235456",
   "metadata": {},
   "outputs": [
    {
     "name": "stdout",
     "output_type": "stream",
     "text": [
      "[796]\n"
     ]
    },
    {
     "data": {
      "text/plain": [
       "array([['绘画资料（E）/吉林长春 黄蕾（20）/img592.jpg', '树', '一般（存疑）']], dtype=object)"
      ]
     },
     "execution_count": 25,
     "metadata": {},
     "output_type": "execute_result"
    }
   ],
   "source": [
    "idxs = [i for i, s in enumerate(s_train_xl[:, 0]) if \"绘画资料（E）/吉林长春 黄蕾（20）/img592.jpg\" in s]\n",
    "print(idxs)\n",
    "s_train_xl[idxs]"
   ]
  },
  {
   "cell_type": "code",
   "execution_count": 26,
   "id": "88c20076-1141-4aea-baac-5edce70e8c84",
   "metadata": {},
   "outputs": [],
   "source": [
    "s_train_xl[idxs[0], 0] = \"绘画资料（E）/吉林长春  黄蕾   （20）/img592.jpg\""
   ]
  },
  {
   "cell_type": "code",
   "execution_count": 27,
   "id": "60e62827-4111-4f81-9ff8-fe086c961478",
   "metadata": {},
   "outputs": [
    {
     "data": {
      "text/plain": [
       "array([['2024研招心理测试-pdf扫描件/075刘基元_3.jpg', '雨中人', '重度（很明显）']], dtype=object)"
      ]
     },
     "execution_count": 27,
     "metadata": {},
     "output_type": "execute_result"
    }
   ],
   "source": [
    "idxs = [i for i, s in enumerate(s_val_xl[:, 0]) if \"2024研招心理测试-pdf扫描件/075刘基元\" in s]\n",
    "s_val_xl[idxs]"
   ]
  },
  {
   "cell_type": "code",
   "execution_count": 28,
   "id": "49516f02-2eef-4217-9e5b-0289d7f20961",
   "metadata": {},
   "outputs": [
    {
     "data": {
      "text/plain": [
       "[136]"
      ]
     },
     "execution_count": 28,
     "metadata": {},
     "output_type": "execute_result"
    }
   ],
   "source": [
    "idxs"
   ]
  },
  {
   "cell_type": "code",
   "execution_count": 29,
   "id": "f051e0cc-3c19-4afc-adb7-5ea99c3d899e",
   "metadata": {},
   "outputs": [],
   "source": [
    "s_val_xl[idxs[0], 0] = \"2024研招心理测试-pdf扫描件/075刘基元_2.jpg\""
   ]
  },
  {
   "cell_type": "code",
   "execution_count": 30,
   "id": "3e394593-2749-4ee7-88ed-5e2627cdf068",
   "metadata": {},
   "outputs": [
    {
     "name": "stdout",
     "output_type": "stream",
     "text": [
      "[85]\n"
     ]
    },
    {
     "data": {
      "text/plain": [
       "array([['绘画资料（E）/吉林长春 黄蕾（20）/img628.jpg', '树', '一般（存疑）']], dtype=object)"
      ]
     },
     "execution_count": 30,
     "metadata": {},
     "output_type": "execute_result"
    }
   ],
   "source": [
    "idxs = [i for i, s in enumerate(s_test_xl[:, 0]) if \"绘画资料（E）/吉林长春 黄蕾（20）/img628.jpg\" in s]\n",
    "print(idxs)\n",
    "s_test_xl[idxs]"
   ]
  },
  {
   "cell_type": "code",
   "execution_count": 31,
   "id": "8f13d431-2e61-43ff-8a40-4341903788d9",
   "metadata": {},
   "outputs": [],
   "source": [
    "s_test_xl[idxs[0], 0] = \"绘画资料（E）/吉林长春  黄蕾   （20）/img628.jpg\""
   ]
  },
  {
   "cell_type": "code",
   "execution_count": 32,
   "id": "523bf343-4424-4c3e-a88f-503007a3758c",
   "metadata": {},
   "outputs": [
    {
     "name": "stdout",
     "output_type": "stream",
     "text": [
      "[290]\n"
     ]
    },
    {
     "data": {
      "text/plain": [
       "array([['绘画资料（E）/吉林长春 黄蕾（20）/img621.jpg', '树', '一般（存疑）']], dtype=object)"
      ]
     },
     "execution_count": 32,
     "metadata": {},
     "output_type": "execute_result"
    }
   ],
   "source": [
    "idxs = [i for i, s in enumerate(s_test_xl[:, 0]) if \"绘画资料（E）/吉林长春 黄蕾（20）/img621.jpg\" in s]\n",
    "print(idxs)\n",
    "s_test_xl[idxs]"
   ]
  },
  {
   "cell_type": "code",
   "execution_count": 33,
   "id": "f13dd9d8-9ac6-437e-b47b-e6fb78e62479",
   "metadata": {},
   "outputs": [],
   "source": [
    "s_test_xl[idxs[0], 0] = \"绘画资料（E）/吉林长春  黄蕾   （20）/img621.jpg\""
   ]
  },
  {
   "cell_type": "markdown",
   "id": "e662511c-2423-49dd-b274-334d6223a83c",
   "metadata": {},
   "source": [
    "## 重新保存"
   ]
  },
  {
   "cell_type": "code",
   "execution_count": 34,
   "id": "9642a8fa-17c1-4258-ba93-b93d20b88c15",
   "metadata": {},
   "outputs": [],
   "source": [
    "save_xslx(save_dir, \"train\", array_to_dict(s_train_xl))\n",
    "save_xslx(save_dir, \"val\", array_to_dict(s_val_xl))\n",
    "save_xslx(save_dir, \"test\", array_to_dict(s_test_xl))"
   ]
  },
  {
   "cell_type": "markdown",
   "id": "1a6aefd1-5bd9-4af2-9a55-0b29167a1d69",
   "metadata": {},
   "source": [
    "## 分开保存"
   ]
  },
  {
   "cell_type": "code",
   "execution_count": 35,
   "id": "c2160248-e509-4f3d-b114-f1c1b55ac092",
   "metadata": {},
   "outputs": [],
   "source": [
    "save_dir = \"./dataset\"\n",
    "train_df = pd.read_excel(io=f\"{save_dir}/train.xlsx\",sheet_name=\"Sheet1\").values\n",
    "val_df = pd.read_excel(io=f\"{save_dir}/val.xlsx\",sheet_name=\"Sheet1\").values\n",
    "test_df = pd.read_excel(io=f\"{save_dir}/test.xlsx\",sheet_name=\"Sheet1\").values"
   ]
  },
  {
   "cell_type": "code",
   "execution_count": 36,
   "id": "b947ad4e-c675-46a8-825b-e51d5be254b6",
   "metadata": {},
   "outputs": [
    {
     "name": "stdout",
     "output_type": "stream",
     "text": [
      "房树人\n",
      "train 244 [146, 78, 20] [0.5983606557377049, 0.319672131147541, 0.08196721311475409]\n",
      "val 36 [21, 12, 3] [0.5833333333333334, 0.3333333333333333, 0.08333333333333333]\n",
      "test 70 [42, 22, 6] [0.6, 0.3142857142857143, 0.08571428571428572]\n",
      "树\n",
      "train 770 [362, 259, 149] [0.4701298701298701, 0.33636363636363636, 0.19350649350649352]\n",
      "val 111 [52, 38, 21] [0.46846846846846846, 0.34234234234234234, 0.1891891891891892]\n",
      "test 221 [104, 75, 42] [0.47058823529411764, 0.3393665158371041, 0.19004524886877827]\n",
      "雨中人\n",
      "train 281 [148, 102, 31] [0.5266903914590747, 0.36298932384341637, 0.1103202846975089]\n",
      "val 41 [22, 15, 4] [0.5365853658536586, 0.36585365853658536, 0.0975609756097561]\n",
      "test 81 [43, 29, 9] [0.5308641975308642, 0.35802469135802467, 0.1111111111111111]\n"
     ]
    }
   ],
   "source": [
    "def save_t_by_alldf(df, t, name):\n",
    "    df_ = df[np.where(df[:, 1]==t)[0],...]\n",
    "    save_xslx(save_root, name, array_to_dict(df_))\n",
    "    cls_nums = [len(np.where(df_[:, 2]==j)[0]) for j in jiaolv_classes]\n",
    "    print(name, len(df_), cls_nums, [n/len(df_) for n in cls_nums])\n",
    "\n",
    "for t in types:\n",
    "    save_root = f\"{save_dir}/{t}\"\n",
    "    os.makedirs(save_root, exist_ok=True)\n",
    "    print(t)\n",
    "    save_t_by_alldf(train_df, t, \"train\")\n",
    "    save_t_by_alldf(val_df, t, \"val\")\n",
    "    save_t_by_alldf(test_df, t, \"test\")"
   ]
  },
  {
   "cell_type": "markdown",
   "id": "74672057-480f-4a51-93e0-171044b5b911",
   "metadata": {},
   "source": [
    "## 统计均值和方差"
   ]
  },
  {
   "cell_type": "code",
   "execution_count": 37,
   "id": "f45cc437-2749-4437-8361-438053a1025e",
   "metadata": {},
   "outputs": [],
   "source": [
    "train_df = pd.read_excel(io=f\"{save_dir}/train.xlsx\",sheet_name=\"Sheet1\").values\n",
    "val_df = pd.read_excel(io=f\"{save_dir}/val.xlsx\",sheet_name=\"Sheet1\").values"
   ]
  },
  {
   "cell_type": "code",
   "execution_count": null,
   "id": "73975a02-e77e-4284-9ad3-25f64c0fd784",
   "metadata": {},
   "outputs": [
    {
     "name": "stderr",
     "output_type": "stream",
     "text": [
      "  1%|          | 16/1295 [00:24<31:35,  1.48s/it]"
     ]
    }
   ],
   "source": [
    "from tqdm import tqdm\n",
    "rgb_means = []\n",
    "rgb_stds = []\n",
    "targets = [train_df, val_df]\n",
    "for t_xl in targets:\n",
    "    for s_idx in tqdm(range(t_xl.shape[0])):\n",
    "        filename = t_xl[s_idx,0].replace(\"/\", \"_\")\n",
    "        # print(s_idx, t_xl[s_idx, 1], t_xl[s_idx, 2], filename)\n",
    "        image = cv2.cvtColor(cv2.imread(f\"./绘画分类数据集/{t_xl[s_idx, 1]}/焦虑/{t_xl[s_idx, 2]}/{filename}\", cv2.IMREAD_COLOR), cv2.COLOR_BGR2RGB).astype(np.float32).reshape((-1, 3))\n",
    "        image /= 255.\n",
    "        rgb_means.append(image.mean(axis=0))\n",
    "        rgb_stds.append(image.std(axis=0))"
   ]
  },
  {
   "cell_type": "code",
   "execution_count": 198,
   "id": "f67ddb08-da37-4c30-a896-54d4bcd18725",
   "metadata": {},
   "outputs": [],
   "source": [
    "mean = np.vstack(rgb_means).mean(axis=0)\n",
    "std = np.vstack(rgb_stds).mean(axis=0)\n",
    "np.savetxt(f\"{save_dir}/mean.txt\", mean)\n",
    "np.savetxt(f\"{save_dir}/std.txt\", std)"
   ]
  },
  {
   "cell_type": "code",
   "execution_count": 199,
   "id": "a56ee864-b4c0-4e98-91a4-ab89dbc7d24a",
   "metadata": {},
   "outputs": [
    {
     "name": "stdout",
     "output_type": "stream",
     "text": [
      "Mean:  [0.9069681  0.90663886 0.90883267]\n",
      "Std: [0.16861193 0.16850951 0.1685644 ]\n"
     ]
    }
   ],
   "source": [
    "print(\"Mean: \", mean)\n",
    "print(\"Std:\", std)"
   ]
  },
  {
   "cell_type": "code",
   "execution_count": 40,
   "id": "a488abe0-34a4-40ff-bbd0-69eefe6c872e",
   "metadata": {},
   "outputs": [],
   "source": [
    "from PIL import Image\n",
    "import matplotlib.pyplot as plt\n",
    "import cv2\n",
    "\n",
    "s_idx = 0\n",
    "filename = s_train_xl[s_idx,0].replace(\"/\", \"_\")\n",
    "image = Image.open(f\"./绘画分类数据集/{s_train_xl[s_idx, 1]}/焦虑/{s_train_xl[s_idx, 2]}/{filename}\").convert('RGB')\n",
    "# image = cv2.cvtColor(cv2.imread(f\"./绘画分类数据集/{s_train_xl[s_idx, 1]}/焦虑/{s_train_xl[s_idx, 2]}/{filename}\", cv2.IMREAD_COLOR), cv2.COLOR_BGR2RGB)"
   ]
  },
  {
   "cell_type": "code",
   "execution_count": 215,
   "id": "b23e6602-b98d-4cb3-b62c-839e32a83639",
   "metadata": {},
   "outputs": [],
   "source": [
    "from torchvision import transforms\n",
    "\n",
    "transform = transforms.Compose([\n",
    "    transforms.Resize([256]),\n",
    "    transforms.ToTensor(),\n",
    "    transforms.Normalize(mean=mean, std=std)\n",
    "])"
   ]
  },
  {
   "cell_type": "code",
   "execution_count": 216,
   "id": "345f84ec-0490-406e-9e78-92be52b31098",
   "metadata": {},
   "outputs": [
    {
     "data": {
      "image/png": "[encoded data removed]",
      "text/plain": [
       "<Figure size 640x480 with 1 Axes>"
      ]
     },
     "metadata": {},
     "output_type": "display_data"
    }
   ],
   "source": [
    "plt.hist(transform(image)[0,...].reshape((-1,)))\n",
    "plt.show()"
   ]
  },
  {
   "cell_type": "code",
   "execution_count": 217,
   "id": "17613346-9e38-4859-abfc-698a0e958aff",
   "metadata": {},
   "outputs": [],
   "source": [
    "u = np.unique(train_df[:, 2])"
   ]
  },
  {
   "cell_type": "code",
   "execution_count": 218,
   "id": "942b6b57-83e9-4e35-bbaa-dab6cb5ca074",
   "metadata": {},
   "outputs": [],
   "source": [
    "train_l = [len(np.where(train_df[:, 2]==t)[0])/train_df.shape[0] for t in u]\n",
    "val_l = [len(np.where(val_df[:, 2]==t)[0])/val_df.shape[0] for t in u]\n",
    "test_l = [len(np.where(test_df[:, 2]==t)[0])/test_df.shape[0] for t in u]"
   ]
  },
  {
   "cell_type": "code",
   "execution_count": 219,
   "id": "0f21746c-ed77-44f8-ace0-7998bffb0139",
   "metadata": {},
   "outputs": [
    {
     "name": "stdout",
     "output_type": "stream",
     "text": [
      "[0.338996138996139, 0.5065637065637065, 0.15444015444015444]\n",
      "[0.34574468085106386, 0.5053191489361702, 0.14893617021276595]\n",
      "[0.3387096774193548, 0.5080645161290323, 0.1532258064516129]\n"
     ]
    }
   ],
   "source": [
    "print(train_l)\n",
    "print(val_l)\n",
    "print(test_l)"
   ]
  },
  {
   "cell_type": "code",
   "execution_count": null,
   "id": "62bc8364-24b1-4008-9fd7-abf66bbc3ffc",
   "metadata": {},
   "outputs": [],
   "source": []
  }
 ],
 "metadata": {
  "kernelspec": {
   "display_name": "Python 3 (ipykernel)",
   "language": "python",
   "name": "python3"
  },
  "language_info": {
   "codemirror_mode": {
    "name": "ipython",
    "version": 3
   },
   "file_extension": ".py",
   "mimetype": "text/x-python",
   "name": "python",
   "nbconvert_exporter": "python",
   "pygments_lexer": "ipython3",
   "version": "3.10.8"
  }
 },
 "nbformat": 4,
 "nbformat_minor": 5
}
