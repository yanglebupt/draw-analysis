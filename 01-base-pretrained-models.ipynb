{
 "cells": [
  {
   "cell_type": "code",
   "execution_count": 1,
   "id": "51abe703-e1de-4eee-b46c-22aca7f43151",
   "metadata": {},
   "outputs": [],
   "source": [
    "import torch\n",
    "import random\n",
    "import math\n",
    "import numpy\n",
    "import os\n",
    "import pandas as pd\n",
    "from PIL import Image\n",
    "\n",
    "from torch.utils.data import DataLoader, Dataset\n",
    "from torchvision import datasets, transforms\n",
    "import numpy as np"
   ]
  },
  {
   "cell_type": "code",
   "execution_count": 2,
   "id": "8f2b09cf-8d10-4cf2-9aa4-07a3bb8534d8",
   "metadata": {},
   "outputs": [],
   "source": [
    "#---------------------------------------------------#\n",
    "#   设置种子\n",
    "#---------------------------------------------------#\n",
    "def seed_everything(seed=3407):\n",
    "    random.seed(seed)\n",
    "    np.random.seed(seed)\n",
    "    torch.manual_seed(seed)\n",
    "    os.environ['PYTHONHASHSEED'] = str(seed)\n",
    "    if torch.cuda.is_available(): \n",
    "        torch.cuda.manual_seed(seed)\n",
    "        torch.cuda.manual_seed_all(seed)\n",
    "        torch.backends.cudnn.deterministic = True\n",
    "        torch.backends.cudnn.benchmark = False\n",
    "        \n",
    "def worker_init_fn(worker_id, seed=3407):\n",
    "    worker_seed = worker_id + seed\n",
    "    random.seed(worker_seed)\n",
    "    np.random.seed(worker_seed)\n",
    "    torch.manual_seed(worker_seed)\n",
    "\n",
    "seed=3407\n",
    "seed_everything(seed)"
   ]
  },
  {
   "cell_type": "markdown",
   "id": "885912aa-04fd-4e55-9883-a22ef48ece25",
   "metadata": {},
   "source": [
    "## 划分数据"
   ]
  },
  {
   "cell_type": "markdown",
   "id": "5f1b2687-6c72-4411-a788-098e6bc4c061",
   "metadata": {},
   "source": [
    "## 加载数据"
   ]
  },
  {
   "cell_type": "code",
   "execution_count": 3,
   "id": "8bd3dc06-7eba-411e-b65e-a52356ec2b24",
   "metadata": {},
   "outputs": [],
   "source": [
    "class MyDataset(Dataset):\n",
    "    def __init__(self, excel_name, classes=None, transform=None):\n",
    "        \n",
    "        self.df = pd.read_excel(io=excel_name, sheet_name=\"Sheet1\").values\n",
    "        self.transform = transform\n",
    "        self.classes = classes\n",
    "        self.targets = np.array([classes.index(l) for l in self.df[:, 2]])\n",
    "        \n",
    "    def __len__(self):\n",
    "        return self.df.shape[0]\n",
    "        \n",
    "    def __getitem__(self, idx):\n",
    "        filename = self.df[idx,0].replace(\"/\", \"_\")\n",
    "        X = Image.open(f\"./绘画分类数据集/{self.df[idx, 1]}/焦虑/{self.df[idx, 2]}/{filename}\").convert('RGB')\n",
    "        X.size\n",
    "        if self.transform is not None:\n",
    "            X = self.transform(X)\n",
    "        y = self.classes.index(self.df[idx, 2])\n",
    "        return X, y"
   ]
  },
  {
   "cell_type": "code",
   "execution_count": 8,
   "id": "c5c46f30-4d3f-43c7-8b9e-db30472ffdbb",
   "metadata": {},
   "outputs": [
    {
     "name": "stdout",
     "output_type": "stream",
     "text": [
      "[0.90696812 0.90663886 0.90883267] [0.16861193 0.16850951 0.16856439]\n",
      "train/val/test:  770 111 221\n"
     ]
    }
   ],
   "source": [
    "dataset_root = \"./dataset\"\n",
    "batch_size = 32\n",
    "num_workers = 4\n",
    "\n",
    "mean = np.loadtxt(f\"{dataset_root}/mean.txt\")\n",
    "std = np.loadtxt(f\"{dataset_root}/std.txt\")\n",
    "print(mean, std)\n",
    "\n",
    "classes = [\"无（轻度）\", \"一般（存疑）\", \"重度（很明显）\"]\n",
    "\n",
    "# 定义数据转换\n",
    "train_transform = transforms.Compose([\n",
    "    transforms.Resize([362, 256]),  # 短边缩到 256\n",
    "    transforms.RandomHorizontalFlip(0.5),\n",
    "    transforms.RandomVerticalFlip(0.5),\n",
    "    transforms.ToTensor(),\n",
    "    transforms.Normalize(mean=mean, std=std)\n",
    "])\n",
    "\n",
    "transform = transforms.Compose([\n",
    "    transforms.Resize([362, 256]),  # 短边缩到 256\n",
    "    transforms.ToTensor(),\n",
    "    transforms.Normalize(mean=mean, std=std)\n",
    "])\n",
    " \n",
    "# 加载数据集\n",
    "type = \"树\"\n",
    "train_folder = MyDataset(f\"{dataset_root}/{type}/train.xlsx\", classes=classes, transform=train_transform)\n",
    "val_folder = MyDataset(f\"{dataset_root}/{type}/val.xlsx\", classes=classes, transform=transform)\n",
    "test_folder = MyDataset(f\"{dataset_root}/{type}/test.xlsx\", classes=classes, transform=transform)  # report test-dev\n",
    "\n",
    "print(\"train/val/test: \", len(train_folder), len(val_folder), len(test_folder))\n",
    " \n",
    "# 创建数据加载器\n",
    "train_loader = DataLoader(train_folder, batch_size=batch_size, shuffle=True, num_workers=num_workers, worker_init_fn=worker_init_fn)\n",
    "val_loader = DataLoader(val_folder, batch_size=batch_size, shuffle=False, num_workers=num_workers, worker_init_fn=worker_init_fn)\n",
    "test_loader = DataLoader(test_folder, batch_size=batch_size, shuffle=False, num_workers=num_workers, worker_init_fn=worker_init_fn)"
   ]
  },
  {
   "cell_type": "code",
   "execution_count": 9,
   "id": "cfc7b1a8-7ce8-4c8b-9862-246e150e3272",
   "metadata": {},
   "outputs": [
    {
     "name": "stdout",
     "output_type": "stream",
     "text": [
      "3\n"
     ]
    }
   ],
   "source": [
    "train_labels = train_folder.targets\n",
    "class_nums = len(train_folder.classes)\n",
    "print(class_nums)"
   ]
  },
  {
   "cell_type": "code",
   "execution_count": 10,
   "id": "a1d4e74f-2b11-4163-b0bc-64648a226b52",
   "metadata": {},
   "outputs": [
    {
     "name": "stdout",
     "output_type": "stream",
     "text": [
      "2\n",
      "torch.Size([32, 3, 362, 256])\n",
      "torch.Size([32])\n"
     ]
    }
   ],
   "source": [
    "inputs = next(iter(train_loader))\n",
    "print(len(inputs))\n",
    "for ipt in inputs:\n",
    "  print(ipt.shape)"
   ]
  },
  {
   "cell_type": "markdown",
   "id": "d12f416d-5958-4852-b8d9-9ba9bf10bfbc",
   "metadata": {},
   "source": [
    "## 模型"
   ]
  },
  {
   "cell_type": "code",
   "execution_count": 11,
   "id": "99e6fda7-35b0-417e-9124-4b2188dde469",
   "metadata": {},
   "outputs": [],
   "source": [
    "import torch\n",
    "from torch import nn"
   ]
  },
  {
   "cell_type": "code",
   "execution_count": 12,
   "id": "f2c75337-b3fd-4dba-b97b-8d67c59dd0cf",
   "metadata": {},
   "outputs": [],
   "source": [
    "def calc_classes_weights(labels, method=\"balanced\"):\n",
    "    classes = np.unique(labels)\n",
    "    nums_list=[len(np.where(labels==cl)[0]) for cl in classes]\n",
    "    print(nums_list)\n",
    "    if method==\"balanced\":\n",
    "        return compute_class_weight(\"balanced\", classes=classes, y=labels)\n",
    "    elif method==\"max\":\n",
    "        # 即用类别中最大样本数量除以当前类别样本的数量，作为权重系数\n",
    "        max_nums = np.max(nums_list)\n",
    "        return [max_nums/nums for nums in nums_list]\n",
    "    elif method==\"reciprocal\":\n",
    "        return [1/nums for nums in nums_list]\n",
    "    else:\n",
    "        pass"
   ]
  },
  {
   "cell_type": "markdown",
   "id": "86f3b4bf-b107-4a69-b5f0-d9b5841f6fc8",
   "metadata": {},
   "source": [
    "### 01-基本预训练模型"
   ]
  },
  {
   "cell_type": "markdown",
   "id": "45e2f461-90f3-409e-b60a-e1e8b2e5e36d",
   "metadata": {},
   "source": [
    "- LoRA 微调 ViT: https://github.com/huggingface/peft/blob/main/examples/image_classification/image_classification_peft_lora.ipynb\n",
    "\n",
    "这里我们只微调了最后 fc 层，可以使用 LoRA 来微调 swin_v2_b 的 QKV 等"
   ]
  },
  {
   "cell_type": "code",
   "execution_count": 13,
   "id": "abcd9054-8725-4b7b-b46a-89c67513531a",
   "metadata": {},
   "outputs": [],
   "source": [
    "from torchvision.models import resnet152, efficientnet_v2_l, swin_v2_b\n",
    "\n",
    "def create_model_from_pretrained(model_func, device, pretrained_weights=\"DEFAULT\"):  # \"DEFAULT\" is \"IMAGENET1K_V1\"\n",
    "\n",
    "    model_name = model_func.__name__\n",
    "    model = model_func(weights=pretrained_weights)\n",
    "    \n",
    "    for param in model.parameters():\n",
    "        param.requires_grad = False\n",
    "\n",
    "    if model_name == \"resnet152\":\n",
    "        model.fc = nn.Linear(model.fc.in_features, class_nums)\n",
    "        for param in model.fc.parameters():\n",
    "            param.requires_grad = True\n",
    "        \n",
    "    elif model_name == \"efficientnet_v2_l\":\n",
    "        model.classifier[1] = nn.Linear(model.classifier[1].in_features, class_nums)\n",
    "        for param in model.classifier[1].parameters():\n",
    "            param.requires_grad = True\n",
    "            \n",
    "    elif model_name == \"swin_v2_b\":\n",
    "        model.head = nn.Linear(model.head.in_features, class_nums)\n",
    "        for param in model.head.parameters():\n",
    "            param.requires_grad = True\n",
    "    \n",
    "    return model.to(device), model_name"
   ]
  },
  {
   "cell_type": "code",
   "execution_count": 14,
   "id": "cb04910b-17b4-48b6-ba43-9262c174f5f6",
   "metadata": {},
   "outputs": [],
   "source": [
    "from tqdm import tqdm\n",
    "from IPython import display\n",
    "import matplotlib.pyplot as plt\n",
    "torch.set_default_dtype(torch.float32)\n",
    "\n",
    "device = 'cuda' if torch.cuda.is_available() else \"cpu\"\n",
    "start_lr = 0.0001\n",
    "label_smoothing = 0 # no is 0\n",
    "balance_weight_method = \"max\"\n",
    "\n",
    "model, model_name = create_model_from_pretrained(efficientnet_v2_l, device)\n",
    "\n",
    "# checkpoint = torch.load(f\"./results/{model_name}/{model_name}_100.pth\", map_location=device)\n",
    "# model.load_state_dict(checkpoint[\"model\"])\n",
    "\n",
    "weights = None # torch.FloatTensor(calc_classes_weights(train_labels, method=balance_weight_method)).to(device) # no is None\n",
    "loss_fn = nn.CrossEntropyLoss(label_smoothing=label_smoothing, weight=weights)  # include softmax\n",
    "\n",
    "optimizer = torch.optim.Adam(model.parameters(),\n",
    "                            lr=start_lr,\n",
    "                            betas=(0.9,0.999),\n",
    "                            eps=1e-8)"
   ]
  },
  {
   "cell_type": "markdown",
   "id": "2c1203bd-d1c6-4041-8005-a9950daf5220",
   "metadata": {},
   "source": [
    "## 训练"
   ]
  },
  {
   "cell_type": "code",
   "execution_count": 15,
   "id": "91fef9d5-fe94-44c7-85b6-c5f495783612",
   "metadata": {},
   "outputs": [],
   "source": [
    "def train(device, model, dataloader, loss_fn, train=True, optimizer=None, useproba=True, weights=None, verbose=False):\n",
    "    correct = 0\n",
    "    error = 0\n",
    "    total = 0\n",
    "    \n",
    "    fin_probas = None\n",
    "    fin_ls = None\n",
    "    \n",
    "    for batch, (X, l) in enumerate(dataloader):\n",
    "        X,l = X.to(device),l.to(device)\n",
    "        n = len(l)\n",
    "        outputs = model(X)\n",
    "        loss = loss_fn(outputs,l)\n",
    "        \n",
    "        if train:\n",
    "            # 开始优化网络权重\n",
    "            optimizer.zero_grad()\n",
    "            loss.backward()\n",
    "            optimizer.step()\n",
    "            \n",
    "        error += loss.item()\n",
    "        \n",
    "        # 计算准确率\n",
    "        if weights is None:\n",
    "            probas = nn.functional.softmax(outputs ,dim=1)\n",
    "        else:\n",
    "            probas = nn.functional.softmax(weights*outputs, dim=1)\n",
    "            \n",
    "        p = torch.max(probas,1)[1]\n",
    "        p = p.to(device)\n",
    "        correct += (p == l).sum()\n",
    "        total += n\n",
    "        \n",
    "        if verbose:\n",
    "            pass\n",
    "            \n",
    "        if useproba:\n",
    "            probas = probas.detach().cpu()\n",
    "            l = l.detach().cpu()\n",
    "            fin_probas = probas if fin_probas is None else np.concatenate([fin_probas, probas], axis=0)\n",
    "            fin_ls = l if fin_ls is None else np.concatenate([fin_ls, l], axis=0)\n",
    "    \n",
    "    return error / (batch+1), correct / total, fin_probas, fin_ls\n",
    "\n",
    "def test(device, model, dataloader, loss_fn, useproba=True, weights=None, verbose=False):\n",
    "    with torch.no_grad():\n",
    "        return train(device, model, dataloader, loss_fn, train=False, optimizer=None, useproba=useproba, weights=weights, verbose=verbose)"
   ]
  },
  {
   "cell_type": "code",
   "execution_count": 17,
   "id": "64ae8b55-4cf0-4a02-9a33-6eea92f317ac",
   "metadata": {},
   "outputs": [],
   "source": [
    "total_epochs = 300\n",
    "save_epoch_fre = 50\n",
    "save_root = f\"./results/{type}/{model_name}\"\n",
    "os.makedirs(save_root, exist_ok=True)"
   ]
  },
  {
   "cell_type": "code",
   "execution_count": 18,
   "id": "75a53285-452f-4c64-985b-315f4e865187",
   "metadata": {},
   "outputs": [],
   "source": [
    "def get_epoch_lr(cur_epoch):\n",
    "    return cur_epoch"
   ]
  },
  {
   "cell_type": "code",
   "execution_count": 19,
   "id": "67431fa7-fc3b-412d-b76a-ba0cb9fe43b9",
   "metadata": {},
   "outputs": [],
   "source": [
    "idxs=[]\n",
    "train_errors=[]\n",
    "train_accs=[]\n",
    "\n",
    "val_errors=[]\n",
    "val_accs=[]"
   ]
  },
  {
   "cell_type": "code",
   "execution_count": null,
   "id": "06ce638d-eea5-445a-a9d1-8591eb02998a",
   "metadata": {},
   "outputs": [
    {
     "data": {
      "image/png": "[encoded data removed]",
      "text/plain": [
       "<Figure size 1000x500 with 2 Axes>"
      ]
     },
     "metadata": {},
     "output_type": "display_data"
    }
   ],
   "source": [
    "epoch_s = 0\n",
    "epoch_e = total_epochs\n",
    "\n",
    "rows = 1\n",
    "cols = 2\n",
    "\n",
    "for i in range(epoch_s, epoch_e+1):  \n",
    "    if i % save_epoch_fre == 0 and i>0:\n",
    "        state = { 'model': model.state_dict(), 'epoch': i, \"lr\": start_lr}  \n",
    "        path = f\"{save_root}/{model_name}_{i}.pth\"\n",
    "        torch.save(state, path)\n",
    "        \n",
    "    model.train()\n",
    "    train_error,train_acc,train_probas,train_ls = train(device, model, train_loader, loss_fn, train=True, optimizer=optimizer, weights=weights)\n",
    "    model.eval()\n",
    "    val_error,val_acc,val_probas,val_ls = test(device, model, val_loader, loss_fn, weights=weights)\n",
    "    \n",
    "    idxs.append(i)  \n",
    "    \n",
    "    train_errors.append(train_error) \n",
    "    val_errors.append(val_error)\n",
    "    \n",
    "    train_accs.append(train_acc.cpu().item())  \n",
    "    val_accs.append(val_acc.cpu().item()) \n",
    "    \n",
    "    display.clear_output(wait=True)\n",
    "    \n",
    "    plt.figure(figsize=(cols*5,rows*5))\n",
    "    plt.subplot(rows,cols,1)\n",
    "    plt.plot(idxs,train_errors,c='red',label=\"train_loss\")\n",
    "    plt.plot(idxs,val_errors,c='blue',label=\"val_loss\")\n",
    "    plt.legend(bbox_to_anchor=(1.5, 1), loc=1)\n",
    "\n",
    "    plt.subplot(rows,cols,2)\n",
    "    plt.plot(idxs,train_accs,c='red',label=\"train_acc\")\n",
    "    plt.plot(idxs,val_accs,c='blue',label=\"val_acc\")\n",
    "    plt.legend(bbox_to_anchor=(1.5, 1), loc=1)\n",
    "    \n",
    "    plt.tight_layout()\n",
    "    plt.show()\n",
    "    plt.pause(0.05)"
   ]
  },
  {
   "cell_type": "markdown",
   "id": "421ffd62-fcc3-46fa-9e40-4b31509cc80a",
   "metadata": {},
   "source": [
    "## 保存"
   ]
  },
  {
   "cell_type": "markdown",
   "id": "3bcf6176-c57f-4cde-a9de-92cc0e39b85a",
   "metadata": {},
   "source": [
    "## 效果"
   ]
  },
  {
   "cell_type": "code",
   "execution_count": null,
   "id": "9b5ef4de-a660-4536-9649-e0339f037a54",
   "metadata": {},
   "outputs": [],
   "source": [
    "model.eval()"
   ]
  },
  {
   "cell_type": "code",
   "execution_count": 20,
   "id": "1b811ebb-41a9-4275-8c5b-718628ce2fcc",
   "metadata": {},
   "outputs": [],
   "source": [
    "def calc_top_k_acc(probas, lables, k=1):\n",
    "    max_indics = np.argmax(probas, axis=1)\n",
    "    return len(np.where(max_indics==lables)[0]) / len(lables)"
   ]
  },
  {
   "cell_type": "code",
   "execution_count": 21,
   "id": "c200ebaf-983d-4ca0-8b5a-3837b359ce9c",
   "metadata": {},
   "outputs": [],
   "source": [
    "test_error,test_acc,test_probas,test_ls = test(device, model, test_loader, loss_fn, weights=weights)"
   ]
  },
  {
   "cell_type": "code",
   "execution_count": 22,
   "id": "5b029278-1a49-4b35-99bd-544609377772",
   "metadata": {},
   "outputs": [
    {
     "name": "stdout",
     "output_type": "stream",
     "text": [
      "0.532258064516129 tensor(0.5323, device='cuda:0')\n"
     ]
    }
   ],
   "source": [
    "print(calc_top_k_acc(test_probas,test_ls), test_acc)"
   ]
  },
  {
   "cell_type": "code",
   "execution_count": null,
   "id": "883be886-b075-4562-aa3d-c9f25808c4d7",
   "metadata": {},
   "outputs": [],
   "source": []
  }
 ],
 "metadata": {
  "kernelspec": {
   "display_name": "Python 3 (ipykernel)",
   "language": "python",
   "name": "python3"
  },
  "language_info": {
   "codemirror_mode": {
    "name": "ipython",
    "version": 3
   },
   "file_extension": ".py",
   "mimetype": "text/x-python",
   "name": "python",
   "nbconvert_exporter": "python",
   "pygments_lexer": "ipython3",
   "version": "3.10.8"
  }
 },
 "nbformat": 4,
 "nbformat_minor": 5
}
