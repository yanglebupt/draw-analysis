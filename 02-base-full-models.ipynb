{
 "cells": [
  {
   "cell_type": "code",
   "execution_count": 1,
   "id": "51abe703-e1de-4eee-b46c-22aca7f43151",
   "metadata": {},
   "outputs": [],
   "source": [
    "import torch\n",
    "import random\n",
    "import math\n",
    "import numpy\n",
    "import os\n",
    "import pandas as pd\n",
    "from PIL import Image\n",
    "\n",
    "from torch.utils.data import DataLoader, Dataset\n",
    "from torchvision import datasets, transforms\n",
    "import numpy as np"
   ]
  },
  {
   "cell_type": "code",
   "execution_count": 2,
   "id": "8f2b09cf-8d10-4cf2-9aa4-07a3bb8534d8",
   "metadata": {},
   "outputs": [],
   "source": [
    "#---------------------------------------------------#\n",
    "#   设置种子\n",
    "#---------------------------------------------------#\n",
    "def seed_everything(seed=3407):\n",
    "    random.seed(seed)\n",
    "    np.random.seed(seed)\n",
    "    torch.manual_seed(seed)\n",
    "    os.environ['PYTHONHASHSEED'] = str(seed)\n",
    "    if torch.cuda.is_available(): \n",
    "        torch.cuda.manual_seed(seed)\n",
    "        torch.cuda.manual_seed_all(seed)\n",
    "        torch.backends.cudnn.deterministic = True\n",
    "        torch.backends.cudnn.benchmark = False\n",
    "        \n",
    "def worker_init_fn(worker_id, seed=3407):\n",
    "    worker_seed = worker_id + seed\n",
    "    random.seed(worker_seed)\n",
    "    np.random.seed(worker_seed)\n",
    "    torch.manual_seed(worker_seed)\n",
    "\n",
    "seed=3407\n",
    "seed_everything(seed)"
   ]
  },
  {
   "cell_type": "markdown",
   "id": "885912aa-04fd-4e55-9883-a22ef48ece25",
   "metadata": {},
   "source": [
    "## 划分数据"
   ]
  },
  {
   "cell_type": "markdown",
   "id": "5f1b2687-6c72-4411-a788-098e6bc4c061",
   "metadata": {},
   "source": [
    "## 加载数据"
   ]
  },
  {
   "cell_type": "code",
   "execution_count": 3,
   "id": "8bd3dc06-7eba-411e-b65e-a52356ec2b24",
   "metadata": {},
   "outputs": [],
   "source": [
    "class MyDataset(Dataset):\n",
    "    def __init__(self, excel_name, classes=None, transform=None):\n",
    "        \n",
    "        self.df = pd.read_excel(io=excel_name, sheet_name=\"Sheet1\").values\n",
    "        self.transform = transform\n",
    "        self.classes = classes\n",
    "        self.targets = np.array([classes.index(l) for l in self.df[:, 2]])\n",
    "        \n",
    "    def __len__(self):\n",
    "        return self.df.shape[0]\n",
    "        \n",
    "    def __getitem__(self, idx):\n",
    "        filename = self.df[idx,0].replace(\"/\", \"_\")\n",
    "        X = Image.open(f\"./绘画分类数据集/{self.df[idx, 1]}/焦虑/{self.df[idx, 2]}/{filename}\").convert('L')\n",
    "        if self.transform is not None:\n",
    "            X = self.transform(X)\n",
    "        y = self.classes.index(self.df[idx, 2])\n",
    "        return X, y"
   ]
  },
  {
   "cell_type": "code",
   "execution_count": 4,
   "id": "c5c46f30-4d3f-43c7-8b9e-db30472ffdbb",
   "metadata": {},
   "outputs": [
    {
     "name": "stdout",
     "output_type": "stream",
     "text": [
      "train/val/test:  770 111 221\n"
     ]
    }
   ],
   "source": [
    "dataset_root = \"./dataset\"\n",
    "batch_size = 32\n",
    "num_workers = 4\n",
    "\n",
    "mean = [0.906]\n",
    "std=[0.168]\n",
    "\n",
    "classes = [\"无（轻度）\", \"一般（存疑）\", \"重度（很明显）\"]\n",
    "\n",
    "# 定义数据转换\n",
    "train_transform = transforms.Compose([\n",
    "    transforms.Resize([362, 256]),  # 短边缩到 256\n",
    "    transforms.RandomHorizontalFlip(0.5),\n",
    "    transforms.RandomVerticalFlip(0.5),\n",
    "    transforms.ToTensor(),\n",
    "    transforms.Normalize(mean=mean, std=std)\n",
    "])\n",
    "\n",
    "transform = transforms.Compose([\n",
    "    transforms.Resize([362, 256]),  # 短边缩到 256\n",
    "    transforms.ToTensor(),\n",
    "    transforms.Normalize(mean=mean, std=std)\n",
    "])\n",
    " \n",
    "# 加载数据集\n",
    "type = \"树\"\n",
    "train_folder = MyDataset(f\"{dataset_root}/{type}/train.xlsx\", classes=classes, transform=train_transform)\n",
    "val_folder = MyDataset(f\"{dataset_root}/{type}/val.xlsx\", classes=classes, transform=transform)\n",
    "test_folder = MyDataset(f\"{dataset_root}/{type}/test.xlsx\", classes=classes, transform=transform)  # report test-dev\n",
    "\n",
    "print(\"train/val/test: \", len(train_folder), len(val_folder), len(test_folder))\n",
    " \n",
    "# 创建数据加载器\n",
    "train_loader = DataLoader(train_folder, batch_size=batch_size, shuffle=True, num_workers=num_workers, worker_init_fn=worker_init_fn)\n",
    "val_loader = DataLoader(val_folder, batch_size=batch_size, shuffle=False, num_workers=num_workers, worker_init_fn=worker_init_fn)\n",
    "test_loader = DataLoader(test_folder, batch_size=batch_size, shuffle=False, num_workers=num_workers, worker_init_fn=worker_init_fn)"
   ]
  },
  {
   "cell_type": "code",
   "execution_count": 5,
   "id": "cfc7b1a8-7ce8-4c8b-9862-246e150e3272",
   "metadata": {},
   "outputs": [
    {
     "name": "stdout",
     "output_type": "stream",
     "text": [
      "3\n"
     ]
    }
   ],
   "source": [
    "train_labels = train_folder.targets\n",
    "class_nums = len(train_folder.classes)\n",
    "print(class_nums)"
   ]
  },
  {
   "cell_type": "code",
   "execution_count": 6,
   "id": "a1d4e74f-2b11-4163-b0bc-64648a226b52",
   "metadata": {},
   "outputs": [
    {
     "name": "stdout",
     "output_type": "stream",
     "text": [
      "2\n",
      "torch.Size([32, 1, 362, 256])\n",
      "torch.Size([32])\n"
     ]
    }
   ],
   "source": [
    "inputs = next(iter(train_loader))\n",
    "print(len(inputs))\n",
    "for ipt in inputs:\n",
    "    print(ipt.shape)"
   ]
  },
  {
   "cell_type": "markdown",
   "id": "d12f416d-5958-4852-b8d9-9ba9bf10bfbc",
   "metadata": {},
   "source": [
    "## 模型"
   ]
  },
  {
   "cell_type": "code",
   "execution_count": 7,
   "id": "99e6fda7-35b0-417e-9124-4b2188dde469",
   "metadata": {},
   "outputs": [],
   "source": [
    "import torch\n",
    "from torch import nn"
   ]
  },
  {
   "cell_type": "code",
   "execution_count": 8,
   "id": "f2c75337-b3fd-4dba-b97b-8d67c59dd0cf",
   "metadata": {},
   "outputs": [],
   "source": [
    "def calc_classes_weights(labels, method=\"balanced\"):\n",
    "    classes = np.unique(labels)\n",
    "    nums_list=[len(np.where(labels==cl)[0]) for cl in classes]\n",
    "    print(nums_list)\n",
    "    if method==\"balanced\":\n",
    "        return compute_class_weight(\"balanced\", classes=classes, y=labels)\n",
    "    elif method==\"max\":\n",
    "        # 即用类别中最大样本数量除以当前类别样本的数量，作为权重系数\n",
    "        max_nums = np.max(nums_list)\n",
    "        return [max_nums/nums for nums in nums_list]\n",
    "    elif method==\"reciprocal\":\n",
    "        return [1/nums for nums in nums_list]\n",
    "    else:\n",
    "        pass"
   ]
  },
  {
   "cell_type": "code",
   "execution_count": 9,
   "id": "e38c8702-9496-48aa-b34c-fc2069a3b66b",
   "metadata": {},
   "outputs": [],
   "source": [
    "def print_trainable_parameters(model):\n",
    "    \"\"\"\n",
    "    Prints the number of trainable parameters in the model.\n",
    "    \"\"\"\n",
    "    trainable_params = 0\n",
    "    all_param = 0\n",
    "    for _, param in model.named_parameters():\n",
    "        all_param += param.numel()\n",
    "        if param.requires_grad:\n",
    "            trainable_params += param.numel()\n",
    "    print(\n",
    "        f\"trainable params: {trainable_params} || all params: {all_param} || trainable%: {100 * trainable_params / all_param:.2f}\"\n",
    "    )"
   ]
  },
  {
   "cell_type": "markdown",
   "id": "86f3b4bf-b107-4a69-b5f0-d9b5841f6fc8",
   "metadata": {},
   "source": [
    "### 01-Full 训练模型"
   ]
  },
  {
   "cell_type": "code",
   "execution_count": 10,
   "id": "76fedfab-c498-4466-9540-2833f102613a",
   "metadata": {},
   "outputs": [],
   "source": [
    "import sys\n",
    "sys.path.append(\"./models\")"
   ]
  },
  {
   "cell_type": "code",
   "execution_count": 11,
   "id": "ffc831d0-327b-4dcc-b465-2de3ca52e633",
   "metadata": {},
   "outputs": [],
   "source": [
    "%load_ext autoreload \n",
    "%autoreload 2 "
   ]
  },
  {
   "cell_type": "code",
   "execution_count": 12,
   "id": "5e62ba8b-4416-47d5-8df1-5e8b69d93d38",
   "metadata": {},
   "outputs": [],
   "source": [
    "from models.swin_transformer import *\n",
    "\n",
    "def create_swinv2_t_model(device):\n",
    "    patch_size = [16, 16]\n",
    "    window_size = [32, 32]\n",
    "    embed_dim = 64\n",
    "    \n",
    "    model = SwinTransformer(\n",
    "        num_classes=3,\n",
    "        patch_size=patch_size,\n",
    "        embed_dim=embed_dim,\n",
    "        depths=[2, 6, 2],\n",
    "        num_heads=[2, 4, 4],\n",
    "        window_size=window_size,\n",
    "        stochastic_depth_prob=0.2,\n",
    "        block=SwinTransformerBlockV2,\n",
    "        downsample_layer=PatchMergingV2,\n",
    "    )\n",
    "    model.features[0][0] = nn.Conv2d(1, embed_dim, kernel_size=(patch_size[0], patch_size[1]), stride=(patch_size[0], patch_size[1]))\n",
    "    \n",
    "    return model.to(device), \"swinv2-t-big-patch\""
   ]
  },
  {
   "cell_type": "code",
   "execution_count": 13,
   "id": "cb04910b-17b4-48b6-ba43-9262c174f5f6",
   "metadata": {},
   "outputs": [
    {
     "name": "stdout",
     "output_type": "stream",
     "text": [
      "trainable params: 3085415 || all params: 3085415 || trainable%: 100.00\n",
      "[362, 259, 149]\n"
     ]
    }
   ],
   "source": [
    "from tqdm import tqdm\n",
    "from IPython import display\n",
    "import matplotlib.pyplot as plt\n",
    "torch.set_default_dtype(torch.float32)\n",
    "\n",
    "torch.cuda.reset_peak_memory_stats()\n",
    "torch.cuda.empty_cache()\n",
    "\n",
    "device = 'cuda' if torch.cuda.is_available() else \"cpu\"\n",
    "start_lr = 0.0001\n",
    "label_smoothing = 0.2 # no is 0\n",
    "balance_weight_method = \"max\"\n",
    "\n",
    "model, model_name = create_swinv2_t_model(device)\n",
    "print_trainable_parameters(model)\n",
    "\n",
    "# checkpoint = torch.load(f\"./results/{model_name}/{model_name}_100.pth\", map_location=device)\n",
    "# model.load_state_dict(checkpoint[\"model\"])\n",
    "\n",
    "weights = torch.FloatTensor(calc_classes_weights(train_labels, method=balance_weight_method)).to(device) # no is None\n",
    "loss_fn = nn.CrossEntropyLoss(label_smoothing=label_smoothing, weight=weights)  # include softmax\n",
    "\n",
    "optimizer = torch.optim.Adam(model.parameters(),\n",
    "                            lr=start_lr,\n",
    "                            betas=(0.9,0.999),\n",
    "                            eps=1e-8)"
   ]
  },
  {
   "cell_type": "markdown",
   "id": "2c1203bd-d1c6-4041-8005-a9950daf5220",
   "metadata": {},
   "source": [
    "## 训练"
   ]
  },
  {
   "cell_type": "code",
   "execution_count": 14,
   "id": "91fef9d5-fe94-44c7-85b6-c5f495783612",
   "metadata": {},
   "outputs": [],
   "source": [
    "def train(device, model, dataloader, loss_fn, train=True, optimizer=None, useproba=True, weights=None, verbose=False):\n",
    "    correct = 0\n",
    "    error = 0\n",
    "    total = 0\n",
    "    \n",
    "    fin_probas = None\n",
    "    fin_ls = None\n",
    "    \n",
    "    for batch, (X, l) in enumerate(dataloader):\n",
    "        X,l = X.to(device),l.to(device)\n",
    "        n = len(l)\n",
    "        outputs = model(X)\n",
    "        loss = loss_fn(outputs,l)\n",
    "        \n",
    "        if train:\n",
    "            # 开始优化网络权重\n",
    "            optimizer.zero_grad()\n",
    "            loss.backward()\n",
    "            optimizer.step()\n",
    "            \n",
    "        error += loss.item()\n",
    "        \n",
    "        # 计算准确率\n",
    "        if weights is None:\n",
    "            probas = nn.functional.softmax(outputs ,dim=1)\n",
    "        else:\n",
    "            probas = nn.functional.softmax(weights*outputs, dim=1)\n",
    "            \n",
    "        p = torch.max(probas,1)[1]\n",
    "        p = p.to(device)\n",
    "        correct += (p == l).sum()\n",
    "        total += n\n",
    "        \n",
    "        if verbose:\n",
    "            pass\n",
    "            \n",
    "        if useproba:\n",
    "            probas = probas.detach().cpu()\n",
    "            l = l.detach().cpu()\n",
    "            fin_probas = probas if fin_probas is None else np.concatenate([fin_probas, probas], axis=0)\n",
    "            fin_ls = l if fin_ls is None else np.concatenate([fin_ls, l], axis=0)\n",
    "    \n",
    "    return error / (batch+1), correct / total, fin_probas, fin_ls\n",
    "\n",
    "def test(device, model, dataloader, loss_fn, useproba=True, weights=None, verbose=False):\n",
    "    with torch.no_grad():\n",
    "        return train(device, model, dataloader, loss_fn, train=False, optimizer=None, useproba=useproba, weights=weights, verbose=verbose)"
   ]
  },
  {
   "cell_type": "code",
   "execution_count": 15,
   "id": "64ae8b55-4cf0-4a02-9a33-6eea92f317ac",
   "metadata": {},
   "outputs": [],
   "source": [
    "total_epochs = 300\n",
    "save_epoch_fre = 50\n",
    "save_root = f\"./results/{type}/{model_name}\"\n",
    "os.makedirs(save_root, exist_ok=True)"
   ]
  },
  {
   "cell_type": "code",
   "execution_count": 16,
   "id": "75a53285-452f-4c64-985b-315f4e865187",
   "metadata": {},
   "outputs": [],
   "source": [
    "step_s = 10\n",
    "warm_up_size = 20\n",
    "step_d = 50\n",
    "def get_epoch_lr(cur_epoch):\n",
    "    if cur_epoch <= warm_up_size:\n",
    "        return start_lr / warm_up_size * cur_epoch\n",
    "    else:\n",
    "        iters = cur_epoch // step_d\n",
    "        return start_lr / step_s**iters\n",
    "\n",
    "# def get_epoch_lr(cur_epoch):\n",
    "#     iters = cur_epoch // 100\n",
    "#     return start_lr / 10**iters\n",
    "\n",
    "# def get_epoch_lr(cur_epoch):\n",
    "#     return cur_epoch"
   ]
  },
  {
   "cell_type": "code",
   "execution_count": 17,
   "id": "d1805786-fe52-4779-bd93-feaec4dff415",
   "metadata": {},
   "outputs": [
    {
     "data": {
      "text/plain": [
       "[<matplotlib.lines.Line2D at 0x7feaef2ec940>]"
      ]
     },
     "execution_count": 17,
     "metadata": {},
     "output_type": "execute_result"
    },
    {
     "data": {
      "image/png": "[encoded data removed]",
      "text/plain": [
       "<Figure size 640x480 with 1 Axes>"
      ]
     },
     "metadata": {},
     "output_type": "display_data"
    }
   ],
   "source": [
    "x = np.arange(total_epochs)\n",
    "y = [get_epoch_lr(i) for i in x]\n",
    "plt.plot(x,y)"
   ]
  },
  {
   "cell_type": "code",
   "execution_count": 18,
   "id": "67431fa7-fc3b-412d-b76a-ba0cb9fe43b9",
   "metadata": {},
   "outputs": [],
   "source": [
    "idxs=[]\n",
    "train_errors=[]\n",
    "train_accs=[]\n",
    "\n",
    "val_errors=[]\n",
    "val_accs=[]\n",
    "\n",
    "test_errors=[]\n",
    "test_accs=[]"
   ]
  },
  {
   "cell_type": "code",
   "execution_count": 19,
   "id": "06ce638d-eea5-445a-a9d1-8591eb02998a",
   "metadata": {},
   "outputs": [
    {
     "data": {
      "image/png": "[encoded data removed]",
      "text/plain": [
       "<Figure size 1000x500 with 2 Axes>"
      ]
     },
     "metadata": {},
     "output_type": "display_data"
    },
    {
     "ename": "KeyboardInterrupt",
     "evalue": "",
     "output_type": "error",
     "traceback": [
      "\u001b[0;31m---------------------------------------------------------------------------\u001b[0m",
      "\u001b[0;31mKeyboardInterrupt\u001b[0m                         Traceback (most recent call last)",
      "Cell \u001b[0;32mIn[19], line 17\u001b[0m\n\u001b[1;32m     14\u001b[0m     param_group[\u001b[38;5;124m\"\u001b[39m\u001b[38;5;124mlr\u001b[39m\u001b[38;5;124m\"\u001b[39m] \u001b[38;5;241m=\u001b[39m get_epoch_lr(i)\n\u001b[1;32m     16\u001b[0m model\u001b[38;5;241m.\u001b[39mtrain()\n\u001b[0;32m---> 17\u001b[0m train_error,train_acc,train_probas,train_ls \u001b[38;5;241m=\u001b[39m \u001b[43mtrain\u001b[49m\u001b[43m(\u001b[49m\u001b[43mdevice\u001b[49m\u001b[43m,\u001b[49m\u001b[43m \u001b[49m\u001b[43mmodel\u001b[49m\u001b[43m,\u001b[49m\u001b[43m \u001b[49m\u001b[43mtrain_loader\u001b[49m\u001b[43m,\u001b[49m\u001b[43m \u001b[49m\u001b[43mloss_fn\u001b[49m\u001b[43m,\u001b[49m\u001b[43m \u001b[49m\u001b[43mtrain\u001b[49m\u001b[38;5;241;43m=\u001b[39;49m\u001b[38;5;28;43;01mTrue\u001b[39;49;00m\u001b[43m,\u001b[49m\u001b[43m \u001b[49m\u001b[43moptimizer\u001b[49m\u001b[38;5;241;43m=\u001b[39;49m\u001b[43moptimizer\u001b[49m\u001b[43m,\u001b[49m\u001b[43m \u001b[49m\u001b[43mweights\u001b[49m\u001b[38;5;241;43m=\u001b[39;49m\u001b[43mweights\u001b[49m\u001b[43m)\u001b[49m\n\u001b[1;32m     18\u001b[0m model\u001b[38;5;241m.\u001b[39meval()\n\u001b[1;32m     19\u001b[0m val_error,val_acc,val_probas,val_ls \u001b[38;5;241m=\u001b[39m test(device, model, val_loader, loss_fn, weights\u001b[38;5;241m=\u001b[39mweights)\n",
      "Cell \u001b[0;32mIn[14], line 9\u001b[0m, in \u001b[0;36mtrain\u001b[0;34m(device, model, dataloader, loss_fn, train, optimizer, useproba, weights, verbose)\u001b[0m\n\u001b[1;32m      6\u001b[0m fin_probas \u001b[38;5;241m=\u001b[39m \u001b[38;5;28;01mNone\u001b[39;00m\n\u001b[1;32m      7\u001b[0m fin_ls \u001b[38;5;241m=\u001b[39m \u001b[38;5;28;01mNone\u001b[39;00m\n\u001b[0;32m----> 9\u001b[0m \u001b[38;5;28;01mfor\u001b[39;00m batch, (X, l) \u001b[38;5;129;01min\u001b[39;00m \u001b[38;5;28menumerate\u001b[39m(dataloader):\n\u001b[1;32m     10\u001b[0m     X,l \u001b[38;5;241m=\u001b[39m X\u001b[38;5;241m.\u001b[39mto(device),l\u001b[38;5;241m.\u001b[39mto(device)\n\u001b[1;32m     11\u001b[0m     n \u001b[38;5;241m=\u001b[39m \u001b[38;5;28mlen\u001b[39m(l)\n",
      "File \u001b[0;32m~/miniconda3/lib/python3.10/site-packages/torch/utils/data/dataloader.py:630\u001b[0m, in \u001b[0;36m_BaseDataLoaderIter.__next__\u001b[0;34m(self)\u001b[0m\n\u001b[1;32m    627\u001b[0m \u001b[38;5;28;01mif\u001b[39;00m \u001b[38;5;28mself\u001b[39m\u001b[38;5;241m.\u001b[39m_sampler_iter \u001b[38;5;129;01mis\u001b[39;00m \u001b[38;5;28;01mNone\u001b[39;00m:\n\u001b[1;32m    628\u001b[0m     \u001b[38;5;66;03m# TODO(https://github.com/pytorch/pytorch/issues/76750)\u001b[39;00m\n\u001b[1;32m    629\u001b[0m     \u001b[38;5;28mself\u001b[39m\u001b[38;5;241m.\u001b[39m_reset()  \u001b[38;5;66;03m# type: ignore[call-arg]\u001b[39;00m\n\u001b[0;32m--> 630\u001b[0m data \u001b[38;5;241m=\u001b[39m \u001b[38;5;28;43mself\u001b[39;49m\u001b[38;5;241;43m.\u001b[39;49m\u001b[43m_next_data\u001b[49m\u001b[43m(\u001b[49m\u001b[43m)\u001b[49m\n\u001b[1;32m    631\u001b[0m \u001b[38;5;28mself\u001b[39m\u001b[38;5;241m.\u001b[39m_num_yielded \u001b[38;5;241m+\u001b[39m\u001b[38;5;241m=\u001b[39m \u001b[38;5;241m1\u001b[39m\n\u001b[1;32m    632\u001b[0m \u001b[38;5;28;01mif\u001b[39;00m \u001b[38;5;28mself\u001b[39m\u001b[38;5;241m.\u001b[39m_dataset_kind \u001b[38;5;241m==\u001b[39m _DatasetKind\u001b[38;5;241m.\u001b[39mIterable \u001b[38;5;129;01mand\u001b[39;00m \\\n\u001b[1;32m    633\u001b[0m         \u001b[38;5;28mself\u001b[39m\u001b[38;5;241m.\u001b[39m_IterableDataset_len_called \u001b[38;5;129;01mis\u001b[39;00m \u001b[38;5;129;01mnot\u001b[39;00m \u001b[38;5;28;01mNone\u001b[39;00m \u001b[38;5;129;01mand\u001b[39;00m \\\n\u001b[1;32m    634\u001b[0m         \u001b[38;5;28mself\u001b[39m\u001b[38;5;241m.\u001b[39m_num_yielded \u001b[38;5;241m>\u001b[39m \u001b[38;5;28mself\u001b[39m\u001b[38;5;241m.\u001b[39m_IterableDataset_len_called:\n",
      "File \u001b[0;32m~/miniconda3/lib/python3.10/site-packages/torch/utils/data/dataloader.py:1328\u001b[0m, in \u001b[0;36m_MultiProcessingDataLoaderIter._next_data\u001b[0;34m(self)\u001b[0m\n\u001b[1;32m   1325\u001b[0m     \u001b[38;5;28;01mreturn\u001b[39;00m \u001b[38;5;28mself\u001b[39m\u001b[38;5;241m.\u001b[39m_process_data(data)\n\u001b[1;32m   1327\u001b[0m \u001b[38;5;28;01massert\u001b[39;00m \u001b[38;5;129;01mnot\u001b[39;00m \u001b[38;5;28mself\u001b[39m\u001b[38;5;241m.\u001b[39m_shutdown \u001b[38;5;129;01mand\u001b[39;00m \u001b[38;5;28mself\u001b[39m\u001b[38;5;241m.\u001b[39m_tasks_outstanding \u001b[38;5;241m>\u001b[39m \u001b[38;5;241m0\u001b[39m\n\u001b[0;32m-> 1328\u001b[0m idx, data \u001b[38;5;241m=\u001b[39m \u001b[38;5;28;43mself\u001b[39;49m\u001b[38;5;241;43m.\u001b[39;49m\u001b[43m_get_data\u001b[49m\u001b[43m(\u001b[49m\u001b[43m)\u001b[49m\n\u001b[1;32m   1329\u001b[0m \u001b[38;5;28mself\u001b[39m\u001b[38;5;241m.\u001b[39m_tasks_outstanding \u001b[38;5;241m-\u001b[39m\u001b[38;5;241m=\u001b[39m \u001b[38;5;241m1\u001b[39m\n\u001b[1;32m   1330\u001b[0m \u001b[38;5;28;01mif\u001b[39;00m \u001b[38;5;28mself\u001b[39m\u001b[38;5;241m.\u001b[39m_dataset_kind \u001b[38;5;241m==\u001b[39m _DatasetKind\u001b[38;5;241m.\u001b[39mIterable:\n\u001b[1;32m   1331\u001b[0m     \u001b[38;5;66;03m# Check for _IterableDatasetStopIteration\u001b[39;00m\n",
      "File \u001b[0;32m~/miniconda3/lib/python3.10/site-packages/torch/utils/data/dataloader.py:1294\u001b[0m, in \u001b[0;36m_MultiProcessingDataLoaderIter._get_data\u001b[0;34m(self)\u001b[0m\n\u001b[1;32m   1290\u001b[0m     \u001b[38;5;66;03m# In this case, `self._data_queue` is a `queue.Queue`,. But we don't\u001b[39;00m\n\u001b[1;32m   1291\u001b[0m     \u001b[38;5;66;03m# need to call `.task_done()` because we don't use `.join()`.\u001b[39;00m\n\u001b[1;32m   1292\u001b[0m \u001b[38;5;28;01melse\u001b[39;00m:\n\u001b[1;32m   1293\u001b[0m     \u001b[38;5;28;01mwhile\u001b[39;00m \u001b[38;5;28;01mTrue\u001b[39;00m:\n\u001b[0;32m-> 1294\u001b[0m         success, data \u001b[38;5;241m=\u001b[39m \u001b[38;5;28;43mself\u001b[39;49m\u001b[38;5;241;43m.\u001b[39;49m\u001b[43m_try_get_data\u001b[49m\u001b[43m(\u001b[49m\u001b[43m)\u001b[49m\n\u001b[1;32m   1295\u001b[0m         \u001b[38;5;28;01mif\u001b[39;00m success:\n\u001b[1;32m   1296\u001b[0m             \u001b[38;5;28;01mreturn\u001b[39;00m data\n",
      "File \u001b[0;32m~/miniconda3/lib/python3.10/site-packages/torch/utils/data/dataloader.py:1132\u001b[0m, in \u001b[0;36m_MultiProcessingDataLoaderIter._try_get_data\u001b[0;34m(self, timeout)\u001b[0m\n\u001b[1;32m   1119\u001b[0m \u001b[38;5;28;01mdef\u001b[39;00m \u001b[38;5;21m_try_get_data\u001b[39m(\u001b[38;5;28mself\u001b[39m, timeout\u001b[38;5;241m=\u001b[39m_utils\u001b[38;5;241m.\u001b[39mMP_STATUS_CHECK_INTERVAL):\n\u001b[1;32m   1120\u001b[0m     \u001b[38;5;66;03m# Tries to fetch data from `self._data_queue` once for a given timeout.\u001b[39;00m\n\u001b[1;32m   1121\u001b[0m     \u001b[38;5;66;03m# This can also be used as inner loop of fetching without timeout, with\u001b[39;00m\n\u001b[0;32m   (...)\u001b[0m\n\u001b[1;32m   1129\u001b[0m     \u001b[38;5;66;03m# Returns a 2-tuple:\u001b[39;00m\n\u001b[1;32m   1130\u001b[0m     \u001b[38;5;66;03m#   (bool: whether successfully get data, any: data if successful else None)\u001b[39;00m\n\u001b[1;32m   1131\u001b[0m     \u001b[38;5;28;01mtry\u001b[39;00m:\n\u001b[0;32m-> 1132\u001b[0m         data \u001b[38;5;241m=\u001b[39m \u001b[38;5;28;43mself\u001b[39;49m\u001b[38;5;241;43m.\u001b[39;49m\u001b[43m_data_queue\u001b[49m\u001b[38;5;241;43m.\u001b[39;49m\u001b[43mget\u001b[49m\u001b[43m(\u001b[49m\u001b[43mtimeout\u001b[49m\u001b[38;5;241;43m=\u001b[39;49m\u001b[43mtimeout\u001b[49m\u001b[43m)\u001b[49m\n\u001b[1;32m   1133\u001b[0m         \u001b[38;5;28;01mreturn\u001b[39;00m (\u001b[38;5;28;01mTrue\u001b[39;00m, data)\n\u001b[1;32m   1134\u001b[0m     \u001b[38;5;28;01mexcept\u001b[39;00m \u001b[38;5;167;01mException\u001b[39;00m \u001b[38;5;28;01mas\u001b[39;00m e:\n\u001b[1;32m   1135\u001b[0m         \u001b[38;5;66;03m# At timeout and error, we manually check whether any worker has\u001b[39;00m\n\u001b[1;32m   1136\u001b[0m         \u001b[38;5;66;03m# failed. Note that this is the only mechanism for Windows to detect\u001b[39;00m\n\u001b[1;32m   1137\u001b[0m         \u001b[38;5;66;03m# worker failures.\u001b[39;00m\n",
      "File \u001b[0;32m~/miniconda3/lib/python3.10/multiprocessing/queues.py:113\u001b[0m, in \u001b[0;36mQueue.get\u001b[0;34m(self, block, timeout)\u001b[0m\n\u001b[1;32m    111\u001b[0m \u001b[38;5;28;01mif\u001b[39;00m block:\n\u001b[1;32m    112\u001b[0m     timeout \u001b[38;5;241m=\u001b[39m deadline \u001b[38;5;241m-\u001b[39m time\u001b[38;5;241m.\u001b[39mmonotonic()\n\u001b[0;32m--> 113\u001b[0m     \u001b[38;5;28;01mif\u001b[39;00m \u001b[38;5;129;01mnot\u001b[39;00m \u001b[38;5;28;43mself\u001b[39;49m\u001b[38;5;241;43m.\u001b[39;49m\u001b[43m_poll\u001b[49m\u001b[43m(\u001b[49m\u001b[43mtimeout\u001b[49m\u001b[43m)\u001b[49m:\n\u001b[1;32m    114\u001b[0m         \u001b[38;5;28;01mraise\u001b[39;00m Empty\n\u001b[1;32m    115\u001b[0m \u001b[38;5;28;01melif\u001b[39;00m \u001b[38;5;129;01mnot\u001b[39;00m \u001b[38;5;28mself\u001b[39m\u001b[38;5;241m.\u001b[39m_poll():\n",
      "File \u001b[0;32m~/miniconda3/lib/python3.10/multiprocessing/connection.py:262\u001b[0m, in \u001b[0;36m_ConnectionBase.poll\u001b[0;34m(self, timeout)\u001b[0m\n\u001b[1;32m    260\u001b[0m \u001b[38;5;28mself\u001b[39m\u001b[38;5;241m.\u001b[39m_check_closed()\n\u001b[1;32m    261\u001b[0m \u001b[38;5;28mself\u001b[39m\u001b[38;5;241m.\u001b[39m_check_readable()\n\u001b[0;32m--> 262\u001b[0m \u001b[38;5;28;01mreturn\u001b[39;00m \u001b[38;5;28;43mself\u001b[39;49m\u001b[38;5;241;43m.\u001b[39;49m\u001b[43m_poll\u001b[49m\u001b[43m(\u001b[49m\u001b[43mtimeout\u001b[49m\u001b[43m)\u001b[49m\n",
      "File \u001b[0;32m~/miniconda3/lib/python3.10/multiprocessing/connection.py:429\u001b[0m, in \u001b[0;36mConnection._poll\u001b[0;34m(self, timeout)\u001b[0m\n\u001b[1;32m    428\u001b[0m \u001b[38;5;28;01mdef\u001b[39;00m \u001b[38;5;21m_poll\u001b[39m(\u001b[38;5;28mself\u001b[39m, timeout):\n\u001b[0;32m--> 429\u001b[0m     r \u001b[38;5;241m=\u001b[39m \u001b[43mwait\u001b[49m\u001b[43m(\u001b[49m\u001b[43m[\u001b[49m\u001b[38;5;28;43mself\u001b[39;49m\u001b[43m]\u001b[49m\u001b[43m,\u001b[49m\u001b[43m \u001b[49m\u001b[43mtimeout\u001b[49m\u001b[43m)\u001b[49m\n\u001b[1;32m    430\u001b[0m     \u001b[38;5;28;01mreturn\u001b[39;00m \u001b[38;5;28mbool\u001b[39m(r)\n",
      "File \u001b[0;32m~/miniconda3/lib/python3.10/multiprocessing/connection.py:936\u001b[0m, in \u001b[0;36mwait\u001b[0;34m(object_list, timeout)\u001b[0m\n\u001b[1;32m    933\u001b[0m     deadline \u001b[38;5;241m=\u001b[39m time\u001b[38;5;241m.\u001b[39mmonotonic() \u001b[38;5;241m+\u001b[39m timeout\n\u001b[1;32m    935\u001b[0m \u001b[38;5;28;01mwhile\u001b[39;00m \u001b[38;5;28;01mTrue\u001b[39;00m:\n\u001b[0;32m--> 936\u001b[0m     ready \u001b[38;5;241m=\u001b[39m \u001b[43mselector\u001b[49m\u001b[38;5;241;43m.\u001b[39;49m\u001b[43mselect\u001b[49m\u001b[43m(\u001b[49m\u001b[43mtimeout\u001b[49m\u001b[43m)\u001b[49m\n\u001b[1;32m    937\u001b[0m     \u001b[38;5;28;01mif\u001b[39;00m ready:\n\u001b[1;32m    938\u001b[0m         \u001b[38;5;28;01mreturn\u001b[39;00m [key\u001b[38;5;241m.\u001b[39mfileobj \u001b[38;5;28;01mfor\u001b[39;00m (key, events) \u001b[38;5;129;01min\u001b[39;00m ready]\n",
      "File \u001b[0;32m~/miniconda3/lib/python3.10/selectors.py:416\u001b[0m, in \u001b[0;36m_PollLikeSelector.select\u001b[0;34m(self, timeout)\u001b[0m\n\u001b[1;32m    414\u001b[0m ready \u001b[38;5;241m=\u001b[39m []\n\u001b[1;32m    415\u001b[0m \u001b[38;5;28;01mtry\u001b[39;00m:\n\u001b[0;32m--> 416\u001b[0m     fd_event_list \u001b[38;5;241m=\u001b[39m \u001b[38;5;28;43mself\u001b[39;49m\u001b[38;5;241;43m.\u001b[39;49m\u001b[43m_selector\u001b[49m\u001b[38;5;241;43m.\u001b[39;49m\u001b[43mpoll\u001b[49m\u001b[43m(\u001b[49m\u001b[43mtimeout\u001b[49m\u001b[43m)\u001b[49m\n\u001b[1;32m    417\u001b[0m \u001b[38;5;28;01mexcept\u001b[39;00m \u001b[38;5;167;01mInterruptedError\u001b[39;00m:\n\u001b[1;32m    418\u001b[0m     \u001b[38;5;28;01mreturn\u001b[39;00m ready\n",
      "\u001b[0;31mKeyboardInterrupt\u001b[0m: "
     ]
    }
   ],
   "source": [
    "epoch_s = 0\n",
    "epoch_e = total_epochs\n",
    "\n",
    "rows = 1\n",
    "cols = 2\n",
    "\n",
    "for i in range(epoch_s, epoch_e+1):  \n",
    "    if i % save_epoch_fre == 0 and i>0:\n",
    "        state = { 'model': model.state_dict(), 'epoch': i, \"lr\": start_lr}  \n",
    "        path = f\"{save_root}/{model_name}_{i}.pth\"\n",
    "        torch.save(state, path)\n",
    "\n",
    "    for param_group in optimizer.param_groups:\n",
    "        param_group[\"lr\"] = get_epoch_lr(i)\n",
    "        \n",
    "    model.train()\n",
    "    train_error,train_acc,train_probas,train_ls = train(device, model, train_loader, loss_fn, train=True, optimizer=optimizer, weights=weights)\n",
    "    model.eval()\n",
    "    val_error,val_acc,val_probas,val_ls = test(device, model, val_loader, loss_fn, weights=weights)\n",
    "    test_error,test_acc,test_probas,test_ls = test(device, model, test_loader, loss_fn, weights=weights)\n",
    "    \n",
    "    idxs.append(i)  \n",
    "    \n",
    "    train_errors.append(train_error) \n",
    "    val_errors.append(val_error)\n",
    "    test_errors.append(test_error)\n",
    "    \n",
    "    train_accs.append(train_acc.cpu().item())  \n",
    "    val_accs.append(val_acc.cpu().item()) \n",
    "    test_accs.append(test_acc.cpu().item()) \n",
    "    \n",
    "    display.clear_output(wait=True)\n",
    "    \n",
    "    plt.figure(figsize=(cols*5,rows*5))\n",
    "    plt.subplot(rows,cols,1)\n",
    "    plt.plot(idxs,train_errors,c='red',label=\"train_loss\")\n",
    "    plt.plot(idxs,val_errors,c='blue',label=\"val_loss\")\n",
    "    plt.plot(idxs,test_errors,c='yellow',label=\"test_loss\")\n",
    "    plt.legend(bbox_to_anchor=(1.5, 1), loc=1)\n",
    "\n",
    "    plt.subplot(rows,cols,2)\n",
    "    plt.plot(idxs,train_accs,c='red',label=\"train_acc\")\n",
    "    plt.plot(idxs,val_accs,c='blue',label=\"val_acc\")\n",
    "    plt.plot(idxs,test_accs,c='yellow',label=\"test_acc\")\n",
    "    plt.legend(bbox_to_anchor=(1.5, 1), loc=1)\n",
    "    \n",
    "    plt.tight_layout()\n",
    "    plt.show()\n",
    "    plt.pause(0.05)"
   ]
  },
  {
   "cell_type": "markdown",
   "id": "421ffd62-fcc3-46fa-9e40-4b31509cc80a",
   "metadata": {},
   "source": [
    "## 保存"
   ]
  },
  {
   "cell_type": "markdown",
   "id": "3bcf6176-c57f-4cde-a9de-92cc0e39b85a",
   "metadata": {},
   "source": [
    "## 效果"
   ]
  },
  {
   "cell_type": "code",
   "execution_count": null,
   "id": "9b5ef4de-a660-4536-9649-e0339f037a54",
   "metadata": {},
   "outputs": [],
   "source": [
    "model.eval()"
   ]
  },
  {
   "cell_type": "code",
   "execution_count": null,
   "id": "1b811ebb-41a9-4275-8c5b-718628ce2fcc",
   "metadata": {},
   "outputs": [],
   "source": [
    "def calc_top_k_acc(probas, lables, k=1):\n",
    "    max_indics = np.argmax(probas, axis=1)\n",
    "    return len(np.where(max_indics==lables)[0]) / len(lables)"
   ]
  },
  {
   "cell_type": "code",
   "execution_count": null,
   "id": "c200ebaf-983d-4ca0-8b5a-3837b359ce9c",
   "metadata": {},
   "outputs": [],
   "source": [
    "test_error,test_acc,test_probas,test_ls = test(device, model, test_loader, loss_fn, weights=weights)"
   ]
  },
  {
   "cell_type": "code",
   "execution_count": null,
   "id": "5b029278-1a49-4b35-99bd-544609377772",
   "metadata": {},
   "outputs": [],
   "source": [
    "print(calc_top_k_acc(test_probas,test_ls), test_acc)"
   ]
  },
  {
   "cell_type": "code",
   "execution_count": null,
   "id": "883be886-b075-4562-aa3d-c9f25808c4d7",
   "metadata": {},
   "outputs": [],
   "source": []
  }
 ],
 "metadata": {
  "kernelspec": {
   "display_name": "Python 3 (ipykernel)",
   "language": "python",
   "name": "python3"
  },
  "language_info": {
   "codemirror_mode": {
    "name": "ipython",
    "version": 3
   },
   "file_extension": ".py",
   "mimetype": "text/x-python",
   "name": "python",
   "nbconvert_exporter": "python",
   "pygments_lexer": "ipython3",
   "version": "3.10.8"
  }
 },
 "nbformat": 4,
 "nbformat_minor": 5
}
